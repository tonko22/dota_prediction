{
 "cells": [
  {
   "cell_type": "code",
   "execution_count": 93,
   "metadata": {
    "collapsed": false
   },
   "outputs": [],
   "source": [
    "import numpy as np\n",
    "import re\n",
    "import pandas as pd\n",
    "# import xgboost\n",
    "from sklearn import cross_validation\n",
    "from itertools import chain\n",
    "from sklearn import ensemble\n",
    "from sklearn.metrics import accuracy_score"
   ]
  },
  {
   "cell_type": "code",
   "execution_count": 72,
   "metadata": {
    "collapsed": true
   },
   "outputs": [],
   "source": [
    "%matplotlib inline\n",
    "import matplotlib as plt\n",
    "from pylab import rcParams\n",
    "rcParams['figure.figsize'] = 10, 10"
   ]
  },
  {
   "cell_type": "code",
   "execution_count": 5,
   "metadata": {
    "collapsed": true
   },
   "outputs": [],
   "source": [
    "path = '/home/andrew/Dota_set_2/DotaParser/DOTA_parsed.txt'\n",
    "t22_path_w = 'C:/Users/user/Downloads/DotaParser/DOTA_parsed.txt'\n",
    "t22_path_h = 'D:/Projects/DotaParser/DOTA_parsed.txt'"
   ]
  },
  {
   "cell_type": "code",
   "execution_count": 6,
   "metadata": {
    "collapsed": false
   },
   "outputs": [
    {
     "name": "stdout",
     "output_type": "stream",
     "text": [
      "567766\n"
     ]
    }
   ],
   "source": [
    "with open(t22_path_h, 'r') as f:\n",
    "    data = f.readlines()\n",
    "    print(len(data))"
   ]
  },
  {
   "cell_type": "code",
   "execution_count": 7,
   "metadata": {
    "collapsed": false
   },
   "outputs": [
    {
     "data": {
      "text/plain": [
       "['2771431315, 1, 96, 3, 18, 48, 76, 95, 73, 110, 1, 30, 1, 1141, 188, 0,\\n',\n",
       " '2771421222, 3, 48, 28, 45, 37, 99, 62, 26, 69, 92, 88, 0, 1044, 161, 7,\\n',\n",
       " '2771421175, 22, 11, 102, 56, 93, 27, 28, 5, 16, 17, 104, 1, 1303, 123, 7,\\n',\n",
       " '2771420362, 3, 84, 8, 66, 95, 108, 28, 54, 76, 41, 87, 1, 1453, 227, 7,\\n',\n",
       " '2771420136, 22, 1, 99, 104, 20, 44, 6, 59, 50, 84, 19, 0, 1097, 121, 7,\\n']"
      ]
     },
     "execution_count": 7,
     "metadata": {},
     "output_type": "execute_result"
    }
   ],
   "source": [
    "data[:5]"
   ]
  },
  {
   "cell_type": "code",
   "execution_count": 49,
   "metadata": {
    "collapsed": false
   },
   "outputs": [
    {
     "data": {
      "text/plain": [
       "[['2771431315',\n",
       "  '1',\n",
       "  '96',\n",
       "  '3',\n",
       "  '18',\n",
       "  '48',\n",
       "  '76',\n",
       "  '95',\n",
       "  '73',\n",
       "  '110',\n",
       "  '1',\n",
       "  '30',\n",
       "  '1',\n",
       "  '1141',\n",
       "  '188',\n",
       "  '0']]"
      ]
     },
     "execution_count": 49,
     "metadata": {},
     "output_type": "execute_result"
    }
   ],
   "source": [
    "#for x, each in enumerate(data):\n",
    "#    data[x] = data[x].split(', ')\n",
    "# Че за мутная тема?\n",
    "data_split = [row.split(',\\n')[:-1][0].split(', ') for row in data] \n",
    "data_split[:1]"
   ]
  },
  {
   "cell_type": "code",
   "execution_count": 50,
   "metadata": {
    "collapsed": false
   },
   "outputs": [
    {
     "data": {
      "text/plain": [
       "{16, 17}"
      ]
     },
     "execution_count": 50,
     "metadata": {},
     "output_type": "execute_result"
    }
   ],
   "source": [
    "set(len(x) for x in data_split)"
   ]
  },
  {
   "cell_type": "code",
   "execution_count": 51,
   "metadata": {
    "collapsed": false
   },
   "outputs": [
    {
     "data": {
      "text/plain": [
       "5225"
      ]
     },
     "execution_count": 51,
     "metadata": {},
     "output_type": "execute_result"
    }
   ],
   "source": [
    "sum([1 for x in data_split if len(x)==16])"
   ]
  },
  {
   "cell_type": "code",
   "execution_count": 52,
   "metadata": {
    "collapsed": false
   },
   "outputs": [
    {
     "data": {
      "text/plain": [
       "562541"
      ]
     },
     "execution_count": 52,
     "metadata": {},
     "output_type": "execute_result"
    }
   ],
   "source": [
    "sum([1 for x in data_split if len(x)==17])"
   ]
  },
  {
   "cell_type": "code",
   "execution_count": 53,
   "metadata": {
    "collapsed": true
   },
   "outputs": [],
   "source": [
    "# cut 16"
   ]
  },
  {
   "cell_type": "code",
   "execution_count": 54,
   "metadata": {
    "collapsed": false
   },
   "outputs": [
    {
     "data": {
      "text/plain": [
       "['2771431315',\n",
       " '1',\n",
       " '96',\n",
       " '3',\n",
       " '18',\n",
       " '48',\n",
       " '76',\n",
       " '95',\n",
       " '73',\n",
       " '110',\n",
       " '1',\n",
       " '30',\n",
       " '1',\n",
       " '1141',\n",
       " '188',\n",
       " '0']"
      ]
     },
     "execution_count": 54,
     "metadata": {},
     "output_type": "execute_result"
    }
   ],
   "source": [
    "data_short = [x[:-1] if len(x)==17 else x for x in data_split ]\n",
    "data_short[0]"
   ]
  },
  {
   "cell_type": "code",
   "execution_count": 57,
   "metadata": {
    "collapsed": false
   },
   "outputs": [
    {
     "data": {
      "text/plain": [
       "{16}"
      ]
     },
     "execution_count": 57,
     "metadata": {},
     "output_type": "execute_result"
    }
   ],
   "source": [
    "set(len(x) for x in data_short)"
   ]
  },
  {
   "cell_type": "code",
   "execution_count": 58,
   "metadata": {
    "collapsed": false
   },
   "outputs": [
    {
     "data": {
      "text/plain": [
       "[2771431315, 1, 96, 3, 18, 48, 76, 95, 73, 110, 1, 30, 1, 1141, 188, 0]"
      ]
     },
     "execution_count": 58,
     "metadata": {},
     "output_type": "execute_result"
    }
   ],
   "source": [
    "# From str type to int\n",
    "data_short = [[int(x) for x in match] for match in data_short]\n",
    "data_short[0]"
   ]
  },
  {
   "cell_type": "code",
   "execution_count": 66,
   "metadata": {
    "collapsed": false
   },
   "outputs": [
    {
     "data": {
      "text/html": [
       "<div>\n",
       "<table border=\"1\" class=\"dataframe\">\n",
       "  <thead>\n",
       "    <tr style=\"text-align: right;\">\n",
       "      <th></th>\n",
       "      <th>match_id</th>\n",
       "      <th>game_mode</th>\n",
       "      <th>1</th>\n",
       "      <th>2</th>\n",
       "      <th>3</th>\n",
       "      <th>4</th>\n",
       "      <th>5</th>\n",
       "      <th>6</th>\n",
       "      <th>7</th>\n",
       "      <th>8</th>\n",
       "      <th>9</th>\n",
       "      <th>10</th>\n",
       "      <th>radiant_win</th>\n",
       "      <th>duration</th>\n",
       "      <th>cluster</th>\n",
       "      <th>lobby_type</th>\n",
       "    </tr>\n",
       "  </thead>\n",
       "  <tbody>\n",
       "    <tr>\n",
       "      <th>0</th>\n",
       "      <td>2771431315</td>\n",
       "      <td>1</td>\n",
       "      <td>96</td>\n",
       "      <td>3</td>\n",
       "      <td>18</td>\n",
       "      <td>48</td>\n",
       "      <td>76</td>\n",
       "      <td>95</td>\n",
       "      <td>73</td>\n",
       "      <td>110</td>\n",
       "      <td>1</td>\n",
       "      <td>30</td>\n",
       "      <td>1</td>\n",
       "      <td>1141</td>\n",
       "      <td>188</td>\n",
       "      <td>0</td>\n",
       "    </tr>\n",
       "    <tr>\n",
       "      <th>1</th>\n",
       "      <td>2771421222</td>\n",
       "      <td>3</td>\n",
       "      <td>48</td>\n",
       "      <td>28</td>\n",
       "      <td>45</td>\n",
       "      <td>37</td>\n",
       "      <td>99</td>\n",
       "      <td>62</td>\n",
       "      <td>26</td>\n",
       "      <td>69</td>\n",
       "      <td>92</td>\n",
       "      <td>88</td>\n",
       "      <td>0</td>\n",
       "      <td>1044</td>\n",
       "      <td>161</td>\n",
       "      <td>7</td>\n",
       "    </tr>\n",
       "    <tr>\n",
       "      <th>2</th>\n",
       "      <td>2771421175</td>\n",
       "      <td>22</td>\n",
       "      <td>11</td>\n",
       "      <td>102</td>\n",
       "      <td>56</td>\n",
       "      <td>93</td>\n",
       "      <td>27</td>\n",
       "      <td>28</td>\n",
       "      <td>5</td>\n",
       "      <td>16</td>\n",
       "      <td>17</td>\n",
       "      <td>104</td>\n",
       "      <td>1</td>\n",
       "      <td>1303</td>\n",
       "      <td>123</td>\n",
       "      <td>7</td>\n",
       "    </tr>\n",
       "    <tr>\n",
       "      <th>3</th>\n",
       "      <td>2771420362</td>\n",
       "      <td>3</td>\n",
       "      <td>84</td>\n",
       "      <td>8</td>\n",
       "      <td>66</td>\n",
       "      <td>95</td>\n",
       "      <td>108</td>\n",
       "      <td>28</td>\n",
       "      <td>54</td>\n",
       "      <td>76</td>\n",
       "      <td>41</td>\n",
       "      <td>87</td>\n",
       "      <td>1</td>\n",
       "      <td>1453</td>\n",
       "      <td>227</td>\n",
       "      <td>7</td>\n",
       "    </tr>\n",
       "    <tr>\n",
       "      <th>4</th>\n",
       "      <td>2771420136</td>\n",
       "      <td>22</td>\n",
       "      <td>1</td>\n",
       "      <td>99</td>\n",
       "      <td>104</td>\n",
       "      <td>20</td>\n",
       "      <td>44</td>\n",
       "      <td>6</td>\n",
       "      <td>59</td>\n",
       "      <td>50</td>\n",
       "      <td>84</td>\n",
       "      <td>19</td>\n",
       "      <td>0</td>\n",
       "      <td>1097</td>\n",
       "      <td>121</td>\n",
       "      <td>7</td>\n",
       "    </tr>\n",
       "  </tbody>\n",
       "</table>\n",
       "</div>"
      ],
      "text/plain": [
       "     match_id  game_mode   1    2    3   4    5   6   7    8   9   10  \\\n",
       "0  2771431315          1  96    3   18  48   76  95  73  110   1   30   \n",
       "1  2771421222          3  48   28   45  37   99  62  26   69  92   88   \n",
       "2  2771421175         22  11  102   56  93   27  28   5   16  17  104   \n",
       "3  2771420362          3  84    8   66  95  108  28  54   76  41   87   \n",
       "4  2771420136         22   1   99  104  20   44   6  59   50  84   19   \n",
       "\n",
       "   radiant_win  duration  cluster  lobby_type  \n",
       "0            1      1141      188           0  \n",
       "1            0      1044      161           7  \n",
       "2            1      1303      123           7  \n",
       "3            1      1453      227           7  \n",
       "4            0      1097      121           7  "
      ]
     },
     "execution_count": 66,
     "metadata": {},
     "output_type": "execute_result"
    }
   ],
   "source": [
    "dota_df = pd.DataFrame(data_short, columns=['match_id', 'game_mode', '1', '2', '3', '4', '5', '6', '7', '8', '9',\n",
    "                 '10', 'radiant_win', 'duration', 'cluster', 'lobby_type'])\n",
    "#dota_df.columns=['match_id', 'game_mode', '1', '2', '3', '4', '5', '6', '7', '8', '9',\n",
    "#                 '10', 'radiant_win', 'duration', 'cluster', 'lobby_type']\n",
    "dota_df.head()"
   ]
  },
  {
   "cell_type": "code",
   "execution_count": 67,
   "metadata": {
    "collapsed": false
   },
   "outputs": [
    {
     "name": "stdout",
     "output_type": "stream",
     "text": [
      "567766\n"
     ]
    },
    {
     "data": {
      "text/html": [
       "<div>\n",
       "<table border=\"1\" class=\"dataframe\">\n",
       "  <thead>\n",
       "    <tr style=\"text-align: right;\">\n",
       "      <th></th>\n",
       "      <th>match_id</th>\n",
       "      <th>game_mode</th>\n",
       "      <th>1</th>\n",
       "      <th>2</th>\n",
       "      <th>3</th>\n",
       "      <th>4</th>\n",
       "      <th>5</th>\n",
       "      <th>6</th>\n",
       "      <th>7</th>\n",
       "      <th>8</th>\n",
       "      <th>9</th>\n",
       "      <th>10</th>\n",
       "      <th>radiant_win</th>\n",
       "      <th>duration</th>\n",
       "      <th>cluster</th>\n",
       "      <th>lobby_type</th>\n",
       "    </tr>\n",
       "  </thead>\n",
       "  <tbody>\n",
       "    <tr>\n",
       "      <th>0</th>\n",
       "      <td>2771431315</td>\n",
       "      <td>1</td>\n",
       "      <td>96</td>\n",
       "      <td>3</td>\n",
       "      <td>18</td>\n",
       "      <td>48</td>\n",
       "      <td>76</td>\n",
       "      <td>95</td>\n",
       "      <td>73</td>\n",
       "      <td>110</td>\n",
       "      <td>1</td>\n",
       "      <td>30</td>\n",
       "      <td>1</td>\n",
       "      <td>19.016667</td>\n",
       "      <td>188</td>\n",
       "      <td>0</td>\n",
       "    </tr>\n",
       "    <tr>\n",
       "      <th>1</th>\n",
       "      <td>2771421222</td>\n",
       "      <td>3</td>\n",
       "      <td>48</td>\n",
       "      <td>28</td>\n",
       "      <td>45</td>\n",
       "      <td>37</td>\n",
       "      <td>99</td>\n",
       "      <td>62</td>\n",
       "      <td>26</td>\n",
       "      <td>69</td>\n",
       "      <td>92</td>\n",
       "      <td>88</td>\n",
       "      <td>0</td>\n",
       "      <td>17.400000</td>\n",
       "      <td>161</td>\n",
       "      <td>7</td>\n",
       "    </tr>\n",
       "    <tr>\n",
       "      <th>2</th>\n",
       "      <td>2771421175</td>\n",
       "      <td>22</td>\n",
       "      <td>11</td>\n",
       "      <td>102</td>\n",
       "      <td>56</td>\n",
       "      <td>93</td>\n",
       "      <td>27</td>\n",
       "      <td>28</td>\n",
       "      <td>5</td>\n",
       "      <td>16</td>\n",
       "      <td>17</td>\n",
       "      <td>104</td>\n",
       "      <td>1</td>\n",
       "      <td>21.716667</td>\n",
       "      <td>123</td>\n",
       "      <td>7</td>\n",
       "    </tr>\n",
       "    <tr>\n",
       "      <th>3</th>\n",
       "      <td>2771420362</td>\n",
       "      <td>3</td>\n",
       "      <td>84</td>\n",
       "      <td>8</td>\n",
       "      <td>66</td>\n",
       "      <td>95</td>\n",
       "      <td>108</td>\n",
       "      <td>28</td>\n",
       "      <td>54</td>\n",
       "      <td>76</td>\n",
       "      <td>41</td>\n",
       "      <td>87</td>\n",
       "      <td>1</td>\n",
       "      <td>24.216667</td>\n",
       "      <td>227</td>\n",
       "      <td>7</td>\n",
       "    </tr>\n",
       "    <tr>\n",
       "      <th>4</th>\n",
       "      <td>2771420136</td>\n",
       "      <td>22</td>\n",
       "      <td>1</td>\n",
       "      <td>99</td>\n",
       "      <td>104</td>\n",
       "      <td>20</td>\n",
       "      <td>44</td>\n",
       "      <td>6</td>\n",
       "      <td>59</td>\n",
       "      <td>50</td>\n",
       "      <td>84</td>\n",
       "      <td>19</td>\n",
       "      <td>0</td>\n",
       "      <td>18.283333</td>\n",
       "      <td>121</td>\n",
       "      <td>7</td>\n",
       "    </tr>\n",
       "  </tbody>\n",
       "</table>\n",
       "</div>"
      ],
      "text/plain": [
       "     match_id  game_mode   1    2    3   4    5   6   7    8   9   10  \\\n",
       "0  2771431315          1  96    3   18  48   76  95  73  110   1   30   \n",
       "1  2771421222          3  48   28   45  37   99  62  26   69  92   88   \n",
       "2  2771421175         22  11  102   56  93   27  28   5   16  17  104   \n",
       "3  2771420362          3  84    8   66  95  108  28  54   76  41   87   \n",
       "4  2771420136         22   1   99  104  20   44   6  59   50  84   19   \n",
       "\n",
       "   radiant_win   duration  cluster  lobby_type  \n",
       "0            1  19.016667      188           0  \n",
       "1            0  17.400000      161           7  \n",
       "2            1  21.716667      123           7  \n",
       "3            1  24.216667      227           7  \n",
       "4            0  18.283333      121           7  "
      ]
     },
     "execution_count": 67,
     "metadata": {},
     "output_type": "execute_result"
    }
   ],
   "source": [
    "dota_df['duration'] = dota_df['duration'].divide(60)\n",
    "print(len(dota_df))\n",
    "dota_df.head()"
   ]
  },
  {
   "cell_type": "code",
   "execution_count": 68,
   "metadata": {
    "collapsed": false
   },
   "outputs": [
    {
     "name": "stdout",
     "output_type": "stream",
     "text": [
      "563296\n"
     ]
    },
    {
     "data": {
      "text/html": [
       "<div>\n",
       "<table border=\"1\" class=\"dataframe\">\n",
       "  <thead>\n",
       "    <tr style=\"text-align: right;\">\n",
       "      <th></th>\n",
       "      <th>match_id</th>\n",
       "      <th>game_mode</th>\n",
       "      <th>1</th>\n",
       "      <th>2</th>\n",
       "      <th>3</th>\n",
       "      <th>4</th>\n",
       "      <th>5</th>\n",
       "      <th>6</th>\n",
       "      <th>7</th>\n",
       "      <th>8</th>\n",
       "      <th>9</th>\n",
       "      <th>10</th>\n",
       "      <th>radiant_win</th>\n",
       "      <th>duration</th>\n",
       "      <th>cluster</th>\n",
       "      <th>lobby_type</th>\n",
       "    </tr>\n",
       "  </thead>\n",
       "  <tbody>\n",
       "    <tr>\n",
       "      <th>2</th>\n",
       "      <td>2771421175</td>\n",
       "      <td>22</td>\n",
       "      <td>11</td>\n",
       "      <td>102</td>\n",
       "      <td>56</td>\n",
       "      <td>93</td>\n",
       "      <td>27</td>\n",
       "      <td>28</td>\n",
       "      <td>5</td>\n",
       "      <td>16</td>\n",
       "      <td>17</td>\n",
       "      <td>104</td>\n",
       "      <td>1</td>\n",
       "      <td>21.716667</td>\n",
       "      <td>123</td>\n",
       "      <td>7</td>\n",
       "    </tr>\n",
       "    <tr>\n",
       "      <th>3</th>\n",
       "      <td>2771420362</td>\n",
       "      <td>3</td>\n",
       "      <td>84</td>\n",
       "      <td>8</td>\n",
       "      <td>66</td>\n",
       "      <td>95</td>\n",
       "      <td>108</td>\n",
       "      <td>28</td>\n",
       "      <td>54</td>\n",
       "      <td>76</td>\n",
       "      <td>41</td>\n",
       "      <td>87</td>\n",
       "      <td>1</td>\n",
       "      <td>24.216667</td>\n",
       "      <td>227</td>\n",
       "      <td>7</td>\n",
       "    </tr>\n",
       "    <tr>\n",
       "      <th>6</th>\n",
       "      <td>2771419193</td>\n",
       "      <td>4</td>\n",
       "      <td>23</td>\n",
       "      <td>63</td>\n",
       "      <td>108</td>\n",
       "      <td>47</td>\n",
       "      <td>79</td>\n",
       "      <td>30</td>\n",
       "      <td>90</td>\n",
       "      <td>32</td>\n",
       "      <td>42</td>\n",
       "      <td>68</td>\n",
       "      <td>0</td>\n",
       "      <td>21.316667</td>\n",
       "      <td>138</td>\n",
       "      <td>0</td>\n",
       "    </tr>\n",
       "    <tr>\n",
       "      <th>7</th>\n",
       "      <td>2771418887</td>\n",
       "      <td>3</td>\n",
       "      <td>73</td>\n",
       "      <td>93</td>\n",
       "      <td>71</td>\n",
       "      <td>9</td>\n",
       "      <td>23</td>\n",
       "      <td>2</td>\n",
       "      <td>84</td>\n",
       "      <td>87</td>\n",
       "      <td>11</td>\n",
       "      <td>44</td>\n",
       "      <td>0</td>\n",
       "      <td>21.650000</td>\n",
       "      <td>224</td>\n",
       "      <td>7</td>\n",
       "    </tr>\n",
       "    <tr>\n",
       "      <th>8</th>\n",
       "      <td>2771417621</td>\n",
       "      <td>1</td>\n",
       "      <td>102</td>\n",
       "      <td>11</td>\n",
       "      <td>104</td>\n",
       "      <td>31</td>\n",
       "      <td>18</td>\n",
       "      <td>46</td>\n",
       "      <td>25</td>\n",
       "      <td>73</td>\n",
       "      <td>4</td>\n",
       "      <td>93</td>\n",
       "      <td>1</td>\n",
       "      <td>21.833333</td>\n",
       "      <td>121</td>\n",
       "      <td>0</td>\n",
       "    </tr>\n",
       "  </tbody>\n",
       "</table>\n",
       "</div>"
      ],
      "text/plain": [
       "     match_id  game_mode    1    2    3   4    5   6   7   8   9   10  \\\n",
       "2  2771421175         22   11  102   56  93   27  28   5  16  17  104   \n",
       "3  2771420362          3   84    8   66  95  108  28  54  76  41   87   \n",
       "6  2771419193          4   23   63  108  47   79  30  90  32  42   68   \n",
       "7  2771418887          3   73   93   71   9   23   2  84  87  11   44   \n",
       "8  2771417621          1  102   11  104  31   18  46  25  73   4   93   \n",
       "\n",
       "   radiant_win   duration  cluster  lobby_type  \n",
       "2            1  21.716667      123           7  \n",
       "3            1  24.216667      227           7  \n",
       "6            0  21.316667      138           0  \n",
       "7            0  21.650000      224           7  \n",
       "8            1  21.833333      121           0  "
      ]
     },
     "execution_count": 68,
     "metadata": {},
     "output_type": "execute_result"
    }
   ],
   "source": [
    "df_cut_by_time = dota_df[dota_df['duration'] >20 ]\n",
    "print(len(df_cut_by_time))\n",
    "df_cut_by_time.head()"
   ]
  },
  {
   "cell_type": "code",
   "execution_count": 74,
   "metadata": {
    "collapsed": false
   },
   "outputs": [
    {
     "data": {
      "text/plain": [
       "<matplotlib.axes._subplots.AxesSubplot at 0x10829b38>"
      ]
     },
     "execution_count": 74,
     "metadata": {},
     "output_type": "execute_result"
    },
    {
     "data": {
      "image/png": "[encoded data removed]",
      "text/plain": [
       "<matplotlib.figure.Figure at 0x10b9b400>"
      ]
     },
     "metadata": {},
     "output_type": "display_data"
    }
   ],
   "source": [
    "df_cut_by_time['duration'].plot.hist()"
   ]
  },
  {
   "cell_type": "code",
   "execution_count": 82,
   "metadata": {
    "collapsed": false
   },
   "outputs": [
    {
     "data": {
      "text/html": [
       "<div>\n",
       "<table border=\"1\" class=\"dataframe\">\n",
       "  <thead>\n",
       "    <tr style=\"text-align: right;\">\n",
       "      <th></th>\n",
       "      <th>1</th>\n",
       "      <th>2</th>\n",
       "      <th>3</th>\n",
       "      <th>4</th>\n",
       "      <th>5</th>\n",
       "      <th>6</th>\n",
       "      <th>7</th>\n",
       "      <th>8</th>\n",
       "      <th>9</th>\n",
       "      <th>10</th>\n",
       "    </tr>\n",
       "  </thead>\n",
       "  <tbody>\n",
       "    <tr>\n",
       "      <th>0</th>\n",
       "      <td>96</td>\n",
       "      <td>3</td>\n",
       "      <td>18</td>\n",
       "      <td>48</td>\n",
       "      <td>76</td>\n",
       "      <td>95</td>\n",
       "      <td>73</td>\n",
       "      <td>110</td>\n",
       "      <td>1</td>\n",
       "      <td>30</td>\n",
       "    </tr>\n",
       "    <tr>\n",
       "      <th>1</th>\n",
       "      <td>48</td>\n",
       "      <td>28</td>\n",
       "      <td>45</td>\n",
       "      <td>37</td>\n",
       "      <td>99</td>\n",
       "      <td>62</td>\n",
       "      <td>26</td>\n",
       "      <td>69</td>\n",
       "      <td>92</td>\n",
       "      <td>88</td>\n",
       "    </tr>\n",
       "    <tr>\n",
       "      <th>2</th>\n",
       "      <td>11</td>\n",
       "      <td>102</td>\n",
       "      <td>56</td>\n",
       "      <td>93</td>\n",
       "      <td>27</td>\n",
       "      <td>28</td>\n",
       "      <td>5</td>\n",
       "      <td>16</td>\n",
       "      <td>17</td>\n",
       "      <td>104</td>\n",
       "    </tr>\n",
       "    <tr>\n",
       "      <th>3</th>\n",
       "      <td>84</td>\n",
       "      <td>8</td>\n",
       "      <td>66</td>\n",
       "      <td>95</td>\n",
       "      <td>108</td>\n",
       "      <td>28</td>\n",
       "      <td>54</td>\n",
       "      <td>76</td>\n",
       "      <td>41</td>\n",
       "      <td>87</td>\n",
       "    </tr>\n",
       "    <tr>\n",
       "      <th>4</th>\n",
       "      <td>1</td>\n",
       "      <td>99</td>\n",
       "      <td>104</td>\n",
       "      <td>20</td>\n",
       "      <td>44</td>\n",
       "      <td>6</td>\n",
       "      <td>59</td>\n",
       "      <td>50</td>\n",
       "      <td>84</td>\n",
       "      <td>19</td>\n",
       "    </tr>\n",
       "  </tbody>\n",
       "</table>\n",
       "</div>"
      ],
      "text/plain": [
       "    1    2    3   4    5   6   7    8   9   10\n",
       "0  96    3   18  48   76  95  73  110   1   30\n",
       "1  48   28   45  37   99  62  26   69  92   88\n",
       "2  11  102   56  93   27  28   5   16  17  104\n",
       "3  84    8   66  95  108  28  54   76  41   87\n",
       "4   1   99  104  20   44   6  59   50  84   19"
      ]
     },
     "execution_count": 82,
     "metadata": {},
     "output_type": "execute_result"
    }
   ],
   "source": [
    "x_train = dota_df[['1', '2', '3', '4', '5', '6', '7', '8', '9', '10']]\n",
    "x_train.head()"
   ]
  },
  {
   "cell_type": "code",
   "execution_count": null,
   "metadata": {
    "collapsed": false
   },
   "outputs": [],
   "source": [
    "x_train_chain = list(chain.from_iterable(list(x_train.values)))\n",
    "x_train_chain"
   ]
  },
  {
   "cell_type": "code",
   "execution_count": 92,
   "metadata": {
    "collapsed": false
   },
   "outputs": [],
   "source": [
    "classifier = ensemble.GradientBoostingClassifier(loss='deviance', learning_rate=0.1, n_estimators=100,\n",
    "                           subsample=1.0, criterion='friedman_mse', min_samples_split=2,\n",
    "                           min_samples_leaf=1, min_weight_fraction_leaf=0.0, max_depth=3,\n",
    "                           min_impurity_split=1e-07, init=None, random_state=None,\n",
    "                           max_features=None, verbose=0, max_leaf_nodes=None, warm_start=False,\n",
    "                           presort='auto')"
   ]
  },
  {
   "cell_type": "code",
   "execution_count": 362,
   "metadata": {
    "collapsed": false
   },
   "outputs": [
    {
     "data": {
      "text/plain": [
       "array(['62', '26', '69', '92', '88'], \n",
       "      dtype='<U2')"
      ]
     },
     "execution_count": 362,
     "metadata": {},
     "output_type": "execute_result"
    }
   ],
   "source": [
    "x_train_2"
   ]
  },
  {
   "cell_type": "code",
   "execution_count": 363,
   "metadata": {
    "collapsed": false
   },
   "outputs": [
    {
     "data": {
      "text/plain": [
       "array('0', \n",
       "      dtype='<U1')"
      ]
     },
     "execution_count": 363,
     "metadata": {},
     "output_type": "execute_result"
    }
   ],
   "source": [
    "y_train_out"
   ]
  },
  {
   "cell_type": "code",
   "execution_count": 84,
   "metadata": {
    "collapsed": true
   },
   "outputs": [],
   "source": [
    "classifier_params = {'n_estimators': 1000, 'max_leaf_nodes': 4, 'max_depth': None, 'random_state': 2,\n",
    "                   'min_samples_split': 5}"
   ]
  },
  {
   "cell_type": "code",
   "execution_count": 85,
   "metadata": {
    "collapsed": true
   },
   "outputs": [],
   "source": [
    "clf = ensemble.GradientBoostingClassifier(**classifier_params)"
   ]
  },
  {
   "cell_type": "code",
   "execution_count": null,
   "metadata": {
    "collapsed": true
   },
   "outputs": [],
   "source": [
    "X_train, X_test, y_train, y_test = train_test_split(X, y, test_size=0.5,\n",
    "                                                    random_state=9)"
   ]
  },
  {
   "cell_type": "code",
   "execution_count": null,
   "metadata": {
    "collapsed": true
   },
   "outputs": [],
   "source": []
  },
  {
   "cell_type": "code",
   "execution_count": null,
   "metadata": {
    "collapsed": true
   },
   "outputs": [],
   "source": []
  },
  {
   "cell_type": "code",
   "execution_count": null,
   "metadata": {
    "collapsed": true
   },
   "outputs": [],
   "source": []
  }
 ],
 "metadata": {
  "kernelspec": {
   "display_name": "Python 3",
   "language": "python",
   "name": "python3"
  },
  "language_info": {
   "codemirror_mode": {
    "name": "ipython",
    "version": 3
   },
   "file_extension": ".py",
   "mimetype": "text/x-python",
   "name": "python",
   "nbconvert_exporter": "python",
   "pygments_lexer": "ipython3",
   "version": "3.6.0"
  }
 },
 "nbformat": 4,
 "nbformat_minor": 0
}
