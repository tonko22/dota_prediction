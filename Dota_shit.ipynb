{
 "cells": [
  {
   "cell_type": "code",
   "execution_count": 1,
   "metadata": {
    "collapsed": false
   },
   "outputs": [
    {
     "name": "stderr",
     "output_type": "stream",
     "text": [
      "D:\\Anaconda3\\lib\\site-packages\\sklearn\\cross_validation.py:44: DeprecationWarning: This module was deprecated in version 0.18 in favor of the model_selection module into which all the refactored classes and functions are moved. Also note that the interface of the new CV iterators are different from that of this module. This module will be removed in 0.20.\n",
      "  \"This module will be removed in 0.20.\", DeprecationWarning)\n"
     ]
    }
   ],
   "source": [
    "import numpy as np\n",
    "import re\n",
    "import pandas as pd\n",
    "# import xgboost\n",
    "from sklearn import cross_validation\n",
    "from sklearn.metrics import accuracy_score"
   ]
  },
  {
   "cell_type": "code",
   "execution_count": 2,
   "metadata": {
    "collapsed": true
   },
   "outputs": [],
   "source": [
    "%matplotlib inline\n",
    "import matplotlib as plt"
   ]
  },
  {
   "cell_type": "code",
   "execution_count": 5,
   "metadata": {
    "collapsed": true
   },
   "outputs": [],
   "source": [
    "path = '/home/andrew/Dota_set_2/DotaParser/DOTA_parsed.txt'\n",
    "t22_path_w = 'C:/Users/user/Downloads/DotaParser/DOTA_parsed.txt'\n",
    "t22_path_h = 'D:/Projects/DotaParser/DOTA_parsed.txt'"
   ]
  },
  {
   "cell_type": "code",
   "execution_count": 6,
   "metadata": {
    "collapsed": false
   },
   "outputs": [
    {
     "name": "stdout",
     "output_type": "stream",
     "text": [
      "567766\n"
     ]
    }
   ],
   "source": [
    "with open(t22_path_h, 'r') as f:\n",
    "    data = f.readlines()\n",
    "    print(len(data))"
   ]
  },
  {
   "cell_type": "code",
   "execution_count": 7,
   "metadata": {
    "collapsed": false
   },
   "outputs": [
    {
     "data": {
      "text/plain": [
       "['2771431315, 1, 96, 3, 18, 48, 76, 95, 73, 110, 1, 30, 1, 1141, 188, 0,\\n',\n",
       " '2771421222, 3, 48, 28, 45, 37, 99, 62, 26, 69, 92, 88, 0, 1044, 161, 7,\\n',\n",
       " '2771421175, 22, 11, 102, 56, 93, 27, 28, 5, 16, 17, 104, 1, 1303, 123, 7,\\n',\n",
       " '2771420362, 3, 84, 8, 66, 95, 108, 28, 54, 76, 41, 87, 1, 1453, 227, 7,\\n',\n",
       " '2771420136, 22, 1, 99, 104, 20, 44, 6, 59, 50, 84, 19, 0, 1097, 121, 7,\\n']"
      ]
     },
     "execution_count": 7,
     "metadata": {},
     "output_type": "execute_result"
    }
   ],
   "source": [
    "data[:5]"
   ]
  },
  {
   "cell_type": "code",
   "execution_count": 8,
   "metadata": {
    "collapsed": false
   },
   "outputs": [
    {
     "data": {
      "text/plain": [
       "[['2771431315',\n",
       "  '1',\n",
       "  '96',\n",
       "  '3',\n",
       "  '18',\n",
       "  '48',\n",
       "  '76',\n",
       "  '95',\n",
       "  '73',\n",
       "  '110',\n",
       "  '1',\n",
       "  '30',\n",
       "  '1',\n",
       "  '1141',\n",
       "  '188',\n",
       "  '0']]"
      ]
     },
     "execution_count": 8,
     "metadata": {},
     "output_type": "execute_result"
    }
   ],
   "source": [
    "#for x, each in enumerate(data):\n",
    "#    data[x] = data[x].split(', ')\n",
    "# Че за мутная тема?\n",
    "data_split = [row.split(',\\n')[:-1][0].split(', ') for row in data] \n",
    "data_split[:1]"
   ]
  },
  {
   "cell_type": "code",
   "execution_count": 9,
   "metadata": {
    "collapsed": false
   },
   "outputs": [
    {
     "data": {
      "text/plain": [
       "{16, 17}"
      ]
     },
     "execution_count": 9,
     "metadata": {},
     "output_type": "execute_result"
    }
   ],
   "source": [
    "set(len(x) for x in data_split)"
   ]
  },
  {
   "cell_type": "code",
   "execution_count": 10,
   "metadata": {
    "collapsed": false
   },
   "outputs": [
    {
     "data": {
      "text/plain": [
       "5225"
      ]
     },
     "execution_count": 10,
     "metadata": {},
     "output_type": "execute_result"
    }
   ],
   "source": [
    "sum([1 for x in data_split if len(x)==16])"
   ]
  },
  {
   "cell_type": "code",
   "execution_count": 11,
   "metadata": {
    "collapsed": false
   },
   "outputs": [
    {
     "data": {
      "text/plain": [
       "562541"
      ]
     },
     "execution_count": 11,
     "metadata": {},
     "output_type": "execute_result"
    }
   ],
   "source": [
    "sum([1 for x in data_split if len(x)==17])"
   ]
  },
  {
   "cell_type": "code",
   "execution_count": 12,
   "metadata": {
    "collapsed": true
   },
   "outputs": [],
   "source": [
    "# cut 16"
   ]
  },
  {
   "cell_type": "code",
   "execution_count": 13,
   "metadata": {
    "collapsed": false
   },
   "outputs": [
    {
     "data": {
      "text/plain": [
       "['2771431315',\n",
       " '1',\n",
       " '96',\n",
       " '3',\n",
       " '18',\n",
       " '48',\n",
       " '76',\n",
       " '95',\n",
       " '73',\n",
       " '110',\n",
       " '1',\n",
       " '30',\n",
       " '1',\n",
       " '1141',\n",
       " '188',\n",
       " '0']"
      ]
     },
     "execution_count": 13,
     "metadata": {},
     "output_type": "execute_result"
    }
   ],
   "source": [
    "data_short = [x[:-1] if len(x)==17 else x for x in data_split ]\n",
    "data_short[0]"
   ]
  },
  {
   "cell_type": "code",
   "execution_count": 14,
   "metadata": {
    "collapsed": false
   },
   "outputs": [
    {
     "data": {
      "text/plain": [
       "{16}"
      ]
     },
     "execution_count": 14,
     "metadata": {},
     "output_type": "execute_result"
    }
   ],
   "source": [
    "set(len(x) for x in data_short)"
   ]
  },
  {
   "cell_type": "code",
   "execution_count": 15,
   "metadata": {
    "collapsed": false
   },
   "outputs": [
    {
     "data": {
      "text/html": [
       "<div>\n",
       "<table border=\"1\" class=\"dataframe\">\n",
       "  <thead>\n",
       "    <tr style=\"text-align: right;\">\n",
       "      <th></th>\n",
       "      <th>match_id</th>\n",
       "      <th>game_mode</th>\n",
       "      <th>1</th>\n",
       "      <th>2</th>\n",
       "      <th>3</th>\n",
       "      <th>4</th>\n",
       "      <th>5</th>\n",
       "      <th>6</th>\n",
       "      <th>7</th>\n",
       "      <th>8</th>\n",
       "      <th>9</th>\n",
       "      <th>10</th>\n",
       "      <th>radiant_win</th>\n",
       "      <th>duration</th>\n",
       "      <th>cluster</th>\n",
       "      <th>lobby_type</th>\n",
       "    </tr>\n",
       "  </thead>\n",
       "  <tbody>\n",
       "    <tr>\n",
       "      <th>0</th>\n",
       "      <td>2771431315</td>\n",
       "      <td>1</td>\n",
       "      <td>96</td>\n",
       "      <td>3</td>\n",
       "      <td>18</td>\n",
       "      <td>48</td>\n",
       "      <td>76</td>\n",
       "      <td>95</td>\n",
       "      <td>73</td>\n",
       "      <td>110</td>\n",
       "      <td>1</td>\n",
       "      <td>30</td>\n",
       "      <td>1</td>\n",
       "      <td>1141</td>\n",
       "      <td>188</td>\n",
       "      <td>0</td>\n",
       "    </tr>\n",
       "    <tr>\n",
       "      <th>1</th>\n",
       "      <td>2771421222</td>\n",
       "      <td>3</td>\n",
       "      <td>48</td>\n",
       "      <td>28</td>\n",
       "      <td>45</td>\n",
       "      <td>37</td>\n",
       "      <td>99</td>\n",
       "      <td>62</td>\n",
       "      <td>26</td>\n",
       "      <td>69</td>\n",
       "      <td>92</td>\n",
       "      <td>88</td>\n",
       "      <td>0</td>\n",
       "      <td>1044</td>\n",
       "      <td>161</td>\n",
       "      <td>7</td>\n",
       "    </tr>\n",
       "    <tr>\n",
       "      <th>2</th>\n",
       "      <td>2771421175</td>\n",
       "      <td>22</td>\n",
       "      <td>11</td>\n",
       "      <td>102</td>\n",
       "      <td>56</td>\n",
       "      <td>93</td>\n",
       "      <td>27</td>\n",
       "      <td>28</td>\n",
       "      <td>5</td>\n",
       "      <td>16</td>\n",
       "      <td>17</td>\n",
       "      <td>104</td>\n",
       "      <td>1</td>\n",
       "      <td>1303</td>\n",
       "      <td>123</td>\n",
       "      <td>7</td>\n",
       "    </tr>\n",
       "    <tr>\n",
       "      <th>3</th>\n",
       "      <td>2771420362</td>\n",
       "      <td>3</td>\n",
       "      <td>84</td>\n",
       "      <td>8</td>\n",
       "      <td>66</td>\n",
       "      <td>95</td>\n",
       "      <td>108</td>\n",
       "      <td>28</td>\n",
       "      <td>54</td>\n",
       "      <td>76</td>\n",
       "      <td>41</td>\n",
       "      <td>87</td>\n",
       "      <td>1</td>\n",
       "      <td>1453</td>\n",
       "      <td>227</td>\n",
       "      <td>7</td>\n",
       "    </tr>\n",
       "    <tr>\n",
       "      <th>4</th>\n",
       "      <td>2771420136</td>\n",
       "      <td>22</td>\n",
       "      <td>1</td>\n",
       "      <td>99</td>\n",
       "      <td>104</td>\n",
       "      <td>20</td>\n",
       "      <td>44</td>\n",
       "      <td>6</td>\n",
       "      <td>59</td>\n",
       "      <td>50</td>\n",
       "      <td>84</td>\n",
       "      <td>19</td>\n",
       "      <td>0</td>\n",
       "      <td>1097</td>\n",
       "      <td>121</td>\n",
       "      <td>7</td>\n",
       "    </tr>\n",
       "  </tbody>\n",
       "</table>\n",
       "</div>"
      ],
      "text/plain": [
       "     match_id game_mode   1    2    3   4    5   6   7    8   9   10  \\\n",
       "0  2771431315         1  96    3   18  48   76  95  73  110   1   30   \n",
       "1  2771421222         3  48   28   45  37   99  62  26   69  92   88   \n",
       "2  2771421175        22  11  102   56  93   27  28   5   16  17  104   \n",
       "3  2771420362         3  84    8   66  95  108  28  54   76  41   87   \n",
       "4  2771420136        22   1   99  104  20   44   6  59   50  84   19   \n",
       "\n",
       "  radiant_win duration cluster lobby_type  \n",
       "0           1     1141     188          0  \n",
       "1           0     1044     161          7  \n",
       "2           1     1303     123          7  \n",
       "3           1     1453     227          7  \n",
       "4           0     1097     121          7  "
      ]
     },
     "execution_count": 15,
     "metadata": {},
     "output_type": "execute_result"
    }
   ],
   "source": [
    "dota_df = pd.DataFrame(data_short, columns=['match_id', 'game_mode', '1', '2', '3', '4', '5', '6', '7', '8', '9',\n",
    "                 '10', 'radiant_win', 'duration', 'cluster', 'lobby_type'])\n",
    "#dota_df.columns=['match_id', 'game_mode', '1', '2', '3', '4', '5', '6', '7', '8', '9',\n",
    "#                 '10', 'radiant_win', 'duration', 'cluster', 'lobby_type']\n",
    "dota_df.head()"
   ]
  },
  {
   "cell_type": "code",
   "execution_count": 21,
   "metadata": {
    "collapsed": false
   },
   "outputs": [
    {
     "data": {
      "text/html": [
       "<div>\n",
       "<table border=\"1\" class=\"dataframe\">\n",
       "  <thead>\n",
       "    <tr style=\"text-align: right;\">\n",
       "      <th></th>\n",
       "      <th>match_id</th>\n",
       "      <th>game_mode</th>\n",
       "      <th>1</th>\n",
       "      <th>2</th>\n",
       "      <th>3</th>\n",
       "      <th>4</th>\n",
       "      <th>5</th>\n",
       "      <th>6</th>\n",
       "      <th>7</th>\n",
       "      <th>8</th>\n",
       "      <th>9</th>\n",
       "      <th>10</th>\n",
       "      <th>radiant_win</th>\n",
       "      <th>duration</th>\n",
       "      <th>cluster</th>\n",
       "      <th>lobby_type</th>\n",
       "    </tr>\n",
       "  </thead>\n",
       "  <tbody>\n",
       "    <tr>\n",
       "      <th>0</th>\n",
       "      <td>2771431315</td>\n",
       "      <td>1</td>\n",
       "      <td>96</td>\n",
       "      <td>3</td>\n",
       "      <td>18</td>\n",
       "      <td>48</td>\n",
       "      <td>76</td>\n",
       "      <td>95</td>\n",
       "      <td>73</td>\n",
       "      <td>110</td>\n",
       "      <td>1</td>\n",
       "      <td>30</td>\n",
       "      <td>1</td>\n",
       "      <td>19.016667</td>\n",
       "      <td>188</td>\n",
       "      <td>0</td>\n",
       "    </tr>\n",
       "    <tr>\n",
       "      <th>1</th>\n",
       "      <td>2771421222</td>\n",
       "      <td>3</td>\n",
       "      <td>48</td>\n",
       "      <td>28</td>\n",
       "      <td>45</td>\n",
       "      <td>37</td>\n",
       "      <td>99</td>\n",
       "      <td>62</td>\n",
       "      <td>26</td>\n",
       "      <td>69</td>\n",
       "      <td>92</td>\n",
       "      <td>88</td>\n",
       "      <td>0</td>\n",
       "      <td>17.400000</td>\n",
       "      <td>161</td>\n",
       "      <td>7</td>\n",
       "    </tr>\n",
       "    <tr>\n",
       "      <th>2</th>\n",
       "      <td>2771421175</td>\n",
       "      <td>22</td>\n",
       "      <td>11</td>\n",
       "      <td>102</td>\n",
       "      <td>56</td>\n",
       "      <td>93</td>\n",
       "      <td>27</td>\n",
       "      <td>28</td>\n",
       "      <td>5</td>\n",
       "      <td>16</td>\n",
       "      <td>17</td>\n",
       "      <td>104</td>\n",
       "      <td>1</td>\n",
       "      <td>21.716667</td>\n",
       "      <td>123</td>\n",
       "      <td>7</td>\n",
       "    </tr>\n",
       "    <tr>\n",
       "      <th>3</th>\n",
       "      <td>2771420362</td>\n",
       "      <td>3</td>\n",
       "      <td>84</td>\n",
       "      <td>8</td>\n",
       "      <td>66</td>\n",
       "      <td>95</td>\n",
       "      <td>108</td>\n",
       "      <td>28</td>\n",
       "      <td>54</td>\n",
       "      <td>76</td>\n",
       "      <td>41</td>\n",
       "      <td>87</td>\n",
       "      <td>1</td>\n",
       "      <td>24.216667</td>\n",
       "      <td>227</td>\n",
       "      <td>7</td>\n",
       "    </tr>\n",
       "    <tr>\n",
       "      <th>4</th>\n",
       "      <td>2771420136</td>\n",
       "      <td>22</td>\n",
       "      <td>1</td>\n",
       "      <td>99</td>\n",
       "      <td>104</td>\n",
       "      <td>20</td>\n",
       "      <td>44</td>\n",
       "      <td>6</td>\n",
       "      <td>59</td>\n",
       "      <td>50</td>\n",
       "      <td>84</td>\n",
       "      <td>19</td>\n",
       "      <td>0</td>\n",
       "      <td>18.283333</td>\n",
       "      <td>121</td>\n",
       "      <td>7</td>\n",
       "    </tr>\n",
       "  </tbody>\n",
       "</table>\n",
       "</div>"
      ],
      "text/plain": [
       "     match_id game_mode   1    2    3   4    5   6   7    8   9   10  \\\n",
       "0  2771431315         1  96    3   18  48   76  95  73  110   1   30   \n",
       "1  2771421222         3  48   28   45  37   99  62  26   69  92   88   \n",
       "2  2771421175        22  11  102   56  93   27  28   5   16  17  104   \n",
       "3  2771420362         3  84    8   66  95  108  28  54   76  41   87   \n",
       "4  2771420136        22   1   99  104  20   44   6  59   50  84   19   \n",
       "\n",
       "  radiant_win   duration cluster lobby_type  \n",
       "0           1  19.016667     188          0  \n",
       "1           0  17.400000     161          7  \n",
       "2           1  21.716667     123          7  \n",
       "3           1  24.216667     227          7  \n",
       "4           0  18.283333     121          7  "
      ]
     },
     "execution_count": 21,
     "metadata": {},
     "output_type": "execute_result"
    }
   ],
   "source": [
    "dota_df['duration'] = dota_df['duration'].astype(int).divide(60)\n",
    "dota_df.head()"
   ]
  },
  {
   "cell_type": "code",
   "execution_count": 18,
   "metadata": {
    "collapsed": false
   },
   "outputs": [
    {
     "data": {
      "text/html": [
       "<div>\n",
       "<table border=\"1\" class=\"dataframe\">\n",
       "  <thead>\n",
       "    <tr style=\"text-align: right;\">\n",
       "      <th></th>\n",
       "      <th>1</th>\n",
       "      <th>2</th>\n",
       "      <th>3</th>\n",
       "      <th>4</th>\n",
       "      <th>5</th>\n",
       "      <th>6</th>\n",
       "      <th>7</th>\n",
       "      <th>8</th>\n",
       "      <th>9</th>\n",
       "      <th>10</th>\n",
       "    </tr>\n",
       "  </thead>\n",
       "  <tbody>\n",
       "    <tr>\n",
       "      <th>0</th>\n",
       "      <td>96</td>\n",
       "      <td>3</td>\n",
       "      <td>18</td>\n",
       "      <td>48</td>\n",
       "      <td>76</td>\n",
       "      <td>95</td>\n",
       "      <td>73</td>\n",
       "      <td>110</td>\n",
       "      <td>1</td>\n",
       "      <td>30</td>\n",
       "    </tr>\n",
       "    <tr>\n",
       "      <th>1</th>\n",
       "      <td>48</td>\n",
       "      <td>28</td>\n",
       "      <td>45</td>\n",
       "      <td>37</td>\n",
       "      <td>99</td>\n",
       "      <td>62</td>\n",
       "      <td>26</td>\n",
       "      <td>69</td>\n",
       "      <td>92</td>\n",
       "      <td>88</td>\n",
       "    </tr>\n",
       "    <tr>\n",
       "      <th>2</th>\n",
       "      <td>11</td>\n",
       "      <td>102</td>\n",
       "      <td>56</td>\n",
       "      <td>93</td>\n",
       "      <td>27</td>\n",
       "      <td>28</td>\n",
       "      <td>5</td>\n",
       "      <td>16</td>\n",
       "      <td>17</td>\n",
       "      <td>104</td>\n",
       "    </tr>\n",
       "    <tr>\n",
       "      <th>3</th>\n",
       "      <td>84</td>\n",
       "      <td>8</td>\n",
       "      <td>66</td>\n",
       "      <td>95</td>\n",
       "      <td>108</td>\n",
       "      <td>28</td>\n",
       "      <td>54</td>\n",
       "      <td>76</td>\n",
       "      <td>41</td>\n",
       "      <td>87</td>\n",
       "    </tr>\n",
       "    <tr>\n",
       "      <th>4</th>\n",
       "      <td>1</td>\n",
       "      <td>99</td>\n",
       "      <td>104</td>\n",
       "      <td>20</td>\n",
       "      <td>44</td>\n",
       "      <td>6</td>\n",
       "      <td>59</td>\n",
       "      <td>50</td>\n",
       "      <td>84</td>\n",
       "      <td>19</td>\n",
       "    </tr>\n",
       "  </tbody>\n",
       "</table>\n",
       "</div>"
      ],
      "text/plain": [
       "    1    2    3   4    5   6   7    8   9   10\n",
       "0  96    3   18  48   76  95  73  110   1   30\n",
       "1  48   28   45  37   99  62  26   69  92   88\n",
       "2  11  102   56  93   27  28   5   16  17  104\n",
       "3  84    8   66  95  108  28  54   76  41   87\n",
       "4   1   99  104  20   44   6  59   50  84   19"
      ]
     },
     "execution_count": 18,
     "metadata": {},
     "output_type": "execute_result"
    }
   ],
   "source": [
    "x_train = dota_df[['1', '2', '3', '4', '5', '6', '7', '8', '9', '10']]\n",
    "x_train.head()"
   ]
  },
  {
   "cell_type": "code",
   "execution_count": 362,
   "metadata": {
    "collapsed": false
   },
   "outputs": [
    {
     "data": {
      "text/plain": [
       "array(['62', '26', '69', '92', '88'], \n",
       "      dtype='<U2')"
      ]
     },
     "execution_count": 362,
     "metadata": {},
     "output_type": "execute_result"
    }
   ],
   "source": [
    "x_train_2"
   ]
  },
  {
   "cell_type": "code",
   "execution_count": 363,
   "metadata": {
    "collapsed": false
   },
   "outputs": [
    {
     "data": {
      "text/plain": [
       "array('0', \n",
       "      dtype='<U1')"
      ]
     },
     "execution_count": 363,
     "metadata": {},
     "output_type": "execute_result"
    }
   ],
   "source": [
    "y_train_out"
   ]
  },
  {
   "cell_type": "code",
   "execution_count": null,
   "metadata": {
    "collapsed": true
   },
   "outputs": [],
   "source": []
  },
  {
   "cell_type": "code",
   "execution_count": null,
   "metadata": {
    "collapsed": true
   },
   "outputs": [],
   "source": []
  },
  {
   "cell_type": "code",
   "execution_count": null,
   "metadata": {
    "collapsed": true
   },
   "outputs": [],
   "source": []
  },
  {
   "cell_type": "code",
   "execution_count": null,
   "metadata": {
    "collapsed": true
   },
   "outputs": [],
   "source": []
  },
  {
   "cell_type": "code",
   "execution_count": null,
   "metadata": {
    "collapsed": true
   },
   "outputs": [],
   "source": []
  }
 ],
 "metadata": {
  "kernelspec": {
   "display_name": "Python 3",
   "language": "python",
   "name": "python3"
  },
  "language_info": {
   "codemirror_mode": {
    "name": "ipython",
    "version": 3
   },
   "file_extension": ".py",
   "mimetype": "text/x-python",
   "name": "python",
   "nbconvert_exporter": "python",
   "pygments_lexer": "ipython3",
   "version": "3.6.0"
  }
 },
 "nbformat": 4,
 "nbformat_minor": 0
}
