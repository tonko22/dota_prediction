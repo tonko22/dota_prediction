{
 "cells": [
  {
   "cell_type": "code",
   "execution_count": 22,
   "metadata": {
    "collapsed": true
   },
   "outputs": [
    {
     "data": {
      "text/plain": [
       "['2771431315',\n '1',\n '96',\n '3',\n '18',\n '48',\n '76',\n '95',\n '73',\n '110',\n '1',\n '30',\n '1',\n '1141',\n '188',\n '0,\\n']"
      ]
     },
     "execution_count": 22,
     "metadata": {},
     "output_type": "execute_result"
    }
   ],
   "source": [
    "f = open('DOTA_parsed.txt', 'r')\n",
    "data = f.readlines()\n",
    "for x, each in enumerate(data):\n",
    "    data[x] = data[x].split(', ')\n",
    "data[0]\n",
    "# [match_id, game_mode, 1, 2, 3, 4, 5, 6, 7, 8, 9, 10, radiant_win, duration, cluster, lobby type]"
   ]
  },
  {
   "cell_type": "code",
   "execution_count": 24,
   "metadata": {},
   "outputs": [
    {
     "data": {
      "text/plain": [
       "205865"
      ]
     },
     "execution_count": 24,
     "metadata": {},
     "output_type": "execute_result"
    }
   ],
   "source": [
    "cd_matches = [d for d in data if d[1] == '22']\n",
    "len(cd_matches)"
   ]
  },
  {
   "cell_type": "code",
   "execution_count": 25,
   "metadata": {},
   "outputs": [
    {
     "data": {
      "text/plain": [
       "[['2771421175',\n  '22',\n  '11',\n  '102',\n  '56',\n  '93',\n  '27',\n  '28',\n  '5',\n  '16',\n  '17',\n  '104',\n  '1',\n  '1303',\n  '123',\n  '7,\\n'],\n ['2771420136',\n  '22',\n  '1',\n  '99',\n  '104',\n  '20',\n  '44',\n  '6',\n  '59',\n  '50',\n  '84',\n  '19',\n  '0',\n  '1097',\n  '121',\n  '7,\\n'],\n ['2771419418',\n  '22',\n  '109',\n  '84',\n  '31',\n  '32',\n  '74',\n  '4',\n  '73',\n  '59',\n  '36',\n  '71',\n  '1',\n  '1154',\n  '138',\n  '7,\\n'],\n ['2771417568',\n  '22',\n  '2',\n  '84',\n  '40',\n  '82',\n  '3',\n  '34',\n  '28',\n  '53',\n  '68',\n  '67',\n  '1',\n  '1220',\n  '151',\n  '7,\\n'],\n ['2771416864',\n  '22',\n  '66',\n  '27',\n  '8',\n  '79',\n  '103',\n  '60',\n  '22',\n  '14',\n  '57',\n  '44',\n  '0',\n  '1346',\n  '186',\n  '7,\\n']]"
      ]
     },
     "execution_count": 25,
     "metadata": {},
     "output_type": "execute_result"
    }
   ],
   "source": [
    "import \n",
    "cd_matches[:5]\n"
   ]
  },
  {
   "cell_type": "code",
   "execution_count": null,
   "metadata": {},
   "outputs": [],
   "source": [
    ""
   ]
  }
 ],
 "metadata": {
  "kernelspec": {
   "display_name": "Python 2",
   "language": "python",
   "name": "python2"
  },
  "language_info": {
   "codemirror_mode": {
    "name": "ipython",
    "version": 2.0
   },
   "file_extension": ".py",
   "mimetype": "text/x-python",
   "name": "python",
   "nbconvert_exporter": "python",
   "pygments_lexer": "ipython2",
   "version": "2.7.6"
  }
 },
 "nbformat": 4,
 "nbformat_minor": 0
}